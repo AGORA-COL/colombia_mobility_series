{
 "cells": [
  {
   "cell_type": "code",
   "execution_count": 139,
   "metadata": {},
   "outputs": [],
   "source": [
    "import re\n",
    "import pandas as pd\n",
    "from bokeh.plotting import figure, show, output_file\n",
    "from bokeh.models import Select, ColumnDataSource, CustomJS\n",
    "from bokeh.layouts import column\n",
    "from bokeh.models import Span\n",
    "from bokeh.palettes import Category10\n",
    "from bokeh.models import HoverTool\n",
    "\n",
    "import matplotlib.pyplot as plt\n",
    "import datetime as dt"
   ]
  },
  {
   "cell_type": "code",
   "execution_count": 140,
   "metadata": {},
   "outputs": [],
   "source": [
    "fred_input_folder = '/zine/HPC02S1/ex-dveloza/AGORA/apps/fred_colombia_implementation/fred_input_files'\n",
    "synthetic_pop_data_folder = '/zine/HPC02S1/ex-dveloza/AGORA/apps/synthetic_populations/data'"
   ]
  },
  {
   "cell_type": "code",
   "execution_count": 141,
   "metadata": {},
   "outputs": [],
   "source": [
    "df_mun_info = pd.read_csv(f'{synthetic_pop_data_folder}/processed_data/geodata/geoinfo_municipios_colombia.csv')[['COD_DEPTO','NOM_DEPART']].drop_duplicates()\n",
    "dept_cods = df_mun_info.COD_DEPTO.sort_values()[:-1]"
   ]
  },
  {
   "cell_type": "code",
   "execution_count": 142,
   "metadata": {},
   "outputs": [],
   "source": [
    "dataframes_mov = {}\n",
    "dataframes_shelter = {}\n",
    "for dept_code in dept_cods:\n",
    "    mobility_file_path  = f'{fred_input_folder}/mobility_trends/{dept_code}_mobility_trends.csv'\n",
    "    shelter_file_path   = f'{fred_input_folder}/shelter_trends/{dept_code}_shelter_trends.csv'\n",
    "\n",
    "    df_mobility = pd.read_csv(mobility_file_path)\n",
    "    df_shelter  = pd.read_csv(shelter_file_path)\n",
    "\n",
    "    df_mobility['date'] = pd.to_datetime(df_mobility['date'])\n",
    "    df_shelter['date']  = pd.to_datetime(df_shelter['date'])\n",
    "\n",
    "    df_mobility['mobility_trend'] = 1 + df_mobility['mobility_trend']\n",
    "\n",
    "    dept_name = df_mun_info[df_mun_info.COD_DEPTO == dept_code].NOM_DEPART.tolist()[0]\n",
    "\n",
    "    dataframes_mov[dept_name]       = df_mobility\n",
    "    dataframes_shelter[dept_name]   = df_shelter"
   ]
  },
  {
   "cell_type": "code",
   "execution_count": 143,
   "metadata": {},
   "outputs": [],
   "source": [
    "# Convert DataFrames to ColumnDataSource for mobility and shelter\n",
    "sources_mov = {name: ColumnDataSource(df) for name, df in dataframes_mov.items()}\n",
    "sources_shelter = {name: ColumnDataSource(df) for name, df in dataframes_shelter.items()}\n",
    "\n",
    "# Initial ColumnDataSource for mobility and shelter\n",
    "initial_source_mov = dataframes_mov['CUNDINAMARCA']\n",
    "initial_source_shelter = dataframes_shelter['CUNDINAMARCA']\n",
    "\n",
    "# Create the figure with datetime x-axis\n",
    "p = figure(x_axis_type='datetime', title=\"Mobility and Shelter Trends Over Time\", width=800, height=400)\n",
    "\n",
    "# Add lines for mobility and shelter\n",
    "mobility_line = p.line(x='date', y='mobility_trend', source=initial_source_mov, line_width=2, color='blue', legend_label='Mobility Trend')\n",
    "shelter_line = p.line(x='date', y='shelter_trend', source=initial_source_shelter, line_width=2, color='green', legend_label='Shelter Trend')\n",
    "\n",
    "# Add hover tool\n",
    "p.add_tools(HoverTool(tooltips=[('Date', '@date{%F}'), ('Trend', '@shelter_trend')], formatters={'@date': 'datetime'}))\n",
    "\n",
    "# Adding a horizontal line at y = 1\n",
    "hline = Span(location=1, dimension='width', line_color='red', line_width=3)\n",
    "p.add_layout(hline)\n",
    "\n",
    "# Set legend click policy\n",
    "p.legend.click_policy = \"hide\"\n",
    "\n",
    "# y axis\n",
    "p.y_range.start = 0.05\n",
    "p.y_range.end = 1.55\n",
    "\n",
    "# Select widget with JavaScript callback for changing data source\n",
    "select = Select(title=\"Choose Department:\", value='CUNDINAMARCA', options=list(sources_mov.keys()))\n",
    "\n",
    "select.js_on_change('value', CustomJS(args=dict(sources_mov=sources_mov, sources_shelter=sources_shelter, mobility_line=mobility_line, shelter_line=shelter_line), code=\"\"\"\n",
    "    const selected = cb_obj.value;\n",
    "    const new_source_mov = sources_mov[selected];\n",
    "    const new_source_shelter = sources_shelter[selected];\n",
    "\n",
    "    // Update data source for mobility and shelter lines\n",
    "    mobility_line.data_source.data = new_source_mov.data;\n",
    "    shelter_line.data_source.data = new_source_shelter.data;\n",
    "    \n",
    "    // Emit the change to update the plot\n",
    "    mobility_line.data_source.change.emit();\n",
    "    shelter_line.data_source.change.emit();\n",
    "\"\"\"))\n",
    "\n",
    "# Layout\n",
    "layout = column(select, p)\n",
    "\n",
    "# Output to HTML\n",
    "output_file('../output_files/mobility_shelter_trends.html')\n",
    "show(layout)"
   ]
  }
 ],
 "metadata": {
  "kernelspec": {
   "display_name": "base",
   "language": "python",
   "name": "python3"
  },
  "language_info": {
   "codemirror_mode": {
    "name": "ipython",
    "version": 3
   },
   "file_extension": ".py",
   "mimetype": "text/x-python",
   "name": "python",
   "nbconvert_exporter": "python",
   "pygments_lexer": "ipython3",
   "version": "3.10.12"
  }
 },
 "nbformat": 4,
 "nbformat_minor": 2
}
