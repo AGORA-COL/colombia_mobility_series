{
 "cells": [
  {
   "cell_type": "code",
   "execution_count": 270,
   "metadata": {},
   "outputs": [],
   "source": [
    "import matplotlib.pyplot as plt\n",
    "import datetime as dt\n",
    "import numpy as np\n",
    "import re\n",
    "import json\n",
    "import pandas as pd\n",
    "import geopandas as gpd"
   ]
  },
  {
   "cell_type": "code",
   "execution_count": 271,
   "metadata": {},
   "outputs": [],
   "source": [
    "fred_input_folder = '/zine/HPC02S1/ex-dveloza/AGORA/apps/fred_colombia_implementation/fred_input_files'\n",
    "synthetic_pop_data_folder = '/zine/HPC02S1/ex-dveloza/AGORA/apps/synthetic_populations/data'"
   ]
  },
  {
   "cell_type": "code",
   "execution_count": 272,
   "metadata": {},
   "outputs": [],
   "source": [
    "df_0 = pd.read_csv(f'{fred_input_folder}/facebook_open_data/movement-range-data-2020-03-01--2020-12-31.txt', sep='\\t', low_memory=False)\n",
    "df_1 = pd.read_csv(f'{fred_input_folder}/facebook_open_data/movement-range-2022-05-22.txt', sep='\\t', low_memory=False)"
   ]
  },
  {
   "cell_type": "code",
   "execution_count": 273,
   "metadata": {},
   "outputs": [],
   "source": [
    "metadata_file = f\"{synthetic_pop_data_folder}/param_files/colombia_municipios_metadata.json\"\n",
    "gadm_file = f'{fred_input_folder}/gadm_data/gadm41_COL_2.shp'"
   ]
  },
  {
   "cell_type": "code",
   "execution_count": 274,
   "metadata": {},
   "outputs": [],
   "source": [
    "# Load JSON data from a file\n",
    "with open(metadata_file, 'r') as file:\n",
    "    json_data = json.load(file)\n",
    "\n",
    "# Initialize an empty DataFrame\n",
    "colombia_municipalities_info = pd.DataFrame(columns=['department_name', 'department_code', 'mun_name', 'divipola_code'])\n",
    "\n",
    "# Instead of using append, we'll construct a list of dictionaries and convert it to a DataFrame at the end\n",
    "rows = []\n",
    "\n",
    "for department_name, department_data in json_data['colombia'].items():\n",
    "    for mun_name, mun_data in department_data.items():\n",
    "        department_code = mun_data['department_code'][0]\n",
    "        divipola_code = mun_data['divipola_code'][0]\n",
    "\n",
    "        new_row = {'department_name': department_name, 'department_code': department_code, \n",
    "                   'mun_name': mun_name, 'divipola_code': divipola_code}\n",
    "        rows.append(new_row)\n",
    "\n",
    "# Convert the list of dictionaries to a DataFrame\n",
    "colombia_municipalities_info = pd.DataFrame(rows)\n",
    "\n",
    "\n",
    "# Data transformations\n",
    "colombia_municipalities_info['department_name'] = colombia_municipalities_info['department_name'].replace(\n",
    "    {\"ARCHIPIÉLAGO DE SAN ANDRÉS PROVIDENCIA Y\": \"SAN ANDRÉS Y PROVIDENCIA\"})\n",
    "\n",
    "# For Latin-ASCII transformation, you might need a library like `unidecode`\n",
    "from unidecode import unidecode\n",
    "colombia_municipalities_info['mun_name'] = colombia_municipalities_info['mun_name'].apply(unidecode)\n",
    "colombia_municipalities_info['department_name'] = colombia_municipalities_info['department_name'].apply(unidecode)"
   ]
  },
  {
   "cell_type": "code",
   "execution_count": 275,
   "metadata": {},
   "outputs": [],
   "source": [
    "facebook_data = pd.concat([df_0[(df_0.country == 'COL')].copy(), df_1[(df_1.country == 'COL')].copy()])"
   ]
  },
  {
   "cell_type": "code",
   "execution_count": 276,
   "metadata": {},
   "outputs": [],
   "source": [
    "# Function to select the preferred polygon_name\n",
    "def select_preferred_name(group):\n",
    "    preferred_names = group['polygon_name'][~group['polygon_name'].str.contains('-')]\n",
    "    if not preferred_names.empty:\n",
    "        return preferred_names.iloc[0]\n",
    "    else:\n",
    "        return group['polygon_name'].iloc[0]\n",
    "\n",
    "# Group by polygon_id and apply the function\n",
    "standardized_names = facebook_data.groupby('polygon_id').apply(select_preferred_name)\n",
    "\n",
    "# Map the standardized names back to the original dataframe\n",
    "facebook_data['polygon_name'] = facebook_data['polygon_id'].map(standardized_names)"
   ]
  },
  {
   "cell_type": "code",
   "execution_count": 277,
   "metadata": {},
   "outputs": [],
   "source": [
    "gadm_shp = gpd.read_file(gadm_file)\n"
   ]
  },
  {
   "cell_type": "code",
   "execution_count": 278,
   "metadata": {},
   "outputs": [],
   "source": [
    "facebook_data['polygon_name'] = facebook_data['polygon_name'].str.upper()"
   ]
  },
  {
   "cell_type": "code",
   "execution_count": 279,
   "metadata": {},
   "outputs": [],
   "source": [
    "# Extracting numbers from string fields\n",
    "facebook_data['num_dpto'] = facebook_data['polygon_id'].str.extract(r\"(?<=\\.)(\\d+)\").astype(float)\n",
    "facebook_data['num_mun'] = facebook_data['polygon_id'].str.extract(r\"(?<=\\.)(\\d+)(?=_1)\").astype(float)\n",
    "\n",
    "# Conditional mutations\n",
    "facebook_data['num_dpto'] = np.where(facebook_data['num_dpto'] >= 5, facebook_data['num_dpto'] + 1, facebook_data['num_dpto'])\n",
    "facebook_data['num_dpto'] = np.where(facebook_data['polygon_name'] == \"SANTAFÉ DE BOGOTÁ\", 5, facebook_data['num_dpto'])\n",
    "facebook_data['num_mun'] = np.where(facebook_data['polygon_name'] == \"SANTAFÉ DE BOGOTÁ\", 1, facebook_data['num_mun'])\n",
    "facebook_data['polygon_name'] = np.where(facebook_data['polygon_name'] == \"SANTAFÉ DE BOGOTÁ\", \"BOGOTÁ D.C.\", facebook_data['polygon_name'])\n",
    "\n",
    "# Processing gadm_dpto_data\n",
    "# Assuming 'gadm_shp' is a geopandas GeoDataFrame and has been appropriately loaded\n",
    "gadm_dpto_data = gadm_shp.copy()\n",
    "gadm_dpto_data = gadm_dpto_data[['GID_2', 'NAME_1', 'NAME_2']]\n",
    "gadm_dpto_data['num_dpto_gadm'] = gadm_dpto_data['GID_2'].str.extract(r\"(?<=\\.)(\\d+)\").astype(float)\n",
    "gadm_dpto_data = gadm_dpto_data.rename(columns={\"GID_2\": \"true_polygon_id\", \"NAME_1\": \"name_dpto\", \"NAME_2\": \"name_mun\"})\n",
    "gadm_dpto_data = gadm_dpto_data[['num_dpto_gadm', 'name_dpto']].drop_duplicates()\n",
    "gadm_dpto_data['name_dpto'] = gadm_dpto_data['name_dpto'].str.upper()\n",
    "# You might need an additional library for string translations, like 'unidecode'\n",
    "from unidecode import unidecode\n",
    "gadm_dpto_data['name_dpto'] = gadm_dpto_data['name_dpto'].apply(unidecode)\n",
    "\n",
    "# Joining DataFrames\n",
    "colombia_municipalities_info = pd.merge(colombia_municipalities_info, gadm_dpto_data, left_on=\"department_name\", right_on=\"name_dpto\", how=\"left\")\n",
    "\n",
    "# Replacements\n",
    "replacement_values = {\n",
    "  \"PURISIMA\"                    : \"PURISIMA DE LA CONCEPCION\",\n",
    "  \"SAN BERNARDINO DE SAHAGUN\"   : \"SAHAGUN\",\n",
    "  \"SANTA CRUZ DE LORICA\"        : \"LORICA\",\n",
    "  \"PUERTO INIRIDA\"              : \"INIRIDA\",\n",
    "  \"SANTA MARTA (DIST. ESP.)\"    : \"SANTA MARTA\",\n",
    "  \"DON MATIAS\"                  : \"DONMATIAS\",\n",
    "  \"LA UNION DE SUCRE\"           : \"LA UNION\",\n",
    "  \"SAN VICENTE\"                 : \"SAN VICENTE FERRER\",\n",
    "  \"SAN LUIS DE CUBARRAL\"        : \"CUBARRAL\",\n",
    "  \"VISTA HERMOSA\"               : \"VISTAHERMOSA\",\n",
    "  \"SAN JOSE DE CUCUTA\"          : \"CUCUTA\",\n",
    "  \"SAN MIGUEL DE MOCOA\"         : \"MOCOA\",\n",
    "  \"SANTIAGO DE CALI\"            : \"CALI\",\n",
    "  \"SAN JUAN DE PASTO\"           : \"PASTO\",\n",
    "  \"SINCE\"                       : \"SINCELEJO\",\n",
    "  \"TOLU\"                        : \"SANTIAGO DE TOLU\",\n",
    "  \"ARMERO\"                      : \"ARMERO GUAYABAL\",\n",
    "  \"TUMACO\"                      : \"SAN ANDRES DE TUMACO\",\n",
    "  'BAH-A SOLANO' : 'BAHIA SOLANO', \n",
    "  'FUNDACI-N' : 'FUNDACION', \n",
    "  'BURITIC-' : 'BURITICA', \n",
    "  'C-RDOBA' : 'CORDOBA', \n",
    "  'CHITAG-' : 'CHITAGA',\n",
    "  'EL CARMEN DE CHUCUR-' : 'EL CARMEN DE CHUCURI',\n",
    "  'MIT-' : 'MITU', \n",
    "  'MARIP-' : 'MARIPI'\n",
    "}\n",
    "\n",
    "facebook_data['polygon_name'] = facebook_data['polygon_name'].apply(unidecode)\n",
    "facebook_data['polygon_name'] = np.where(\n",
    "    (facebook_data['num_dpto'] == 2) & (facebook_data['polygon_name'] == \"BOLIVAR\"),\n",
    "    \"CIUDAD BOLIVAR\",\n",
    "    facebook_data['polygon_name'].replace(replacement_values)\n",
    ")\n",
    "\n",
    "# Final join for facebook_data_divipola_code\n",
    "facebook_data_divipola_code = pd.merge(facebook_data, colombia_municipalities_info, left_on=[\"polygon_name\", \"num_dpto\"], right_on=[\"mun_name\", \"num_dpto_gadm\"], how=\"left\")"
   ]
  },
  {
   "cell_type": "code",
   "execution_count": 280,
   "metadata": {},
   "outputs": [
    {
     "data": {
      "text/plain": [
       "array([], dtype=object)"
      ]
     },
     "execution_count": 280,
     "metadata": {},
     "output_type": "execute_result"
    }
   ],
   "source": [
    "facebook_data_divipola_code[facebook_data_divipola_code.department_code.isna()].polygon_name.unique()"
   ]
  },
  {
   "cell_type": "code",
   "execution_count": 281,
   "metadata": {},
   "outputs": [
    {
     "name": "stdout",
     "output_type": "stream",
     "text": [
      "Processing : 91\n",
      "Processing : 19\n",
      "Processing : 20\n",
      "Processing : 27\n",
      "Processing : 23\n",
      "Processing : 25\n",
      "Processing : 11\n",
      "Processing : 94\n",
      "Processing : 95\n",
      "Processing : 41\n",
      "Processing : 44\n",
      "Processing : 47\n",
      "Processing : 5\n"
     ]
    },
    {
     "name": "stdout",
     "output_type": "stream",
     "text": [
      "Processing : 50\n",
      "Processing : 52\n",
      "Processing : 54\n",
      "Processing : 86\n",
      "Processing : 63\n",
      "Processing : 66\n",
      "Processing : 88\n",
      "Processing : 68\n",
      "Processing : 70\n",
      "Processing : 73\n",
      "Processing : 81\n",
      "Processing : 76\n",
      "Processing : 97\n",
      "Processing : 99\n",
      "Processing : 8\n",
      "Processing : 13\n",
      "Processing : 15\n",
      "Processing : 17\n",
      "Processing : 18\n",
      "Processing : 85\n"
     ]
    }
   ],
   "source": [
    "for dept_code in facebook_data_divipola_code.department_code.unique():\n",
    "    print(f'Processing : {dept_code}')\n",
    "    facebook_dept_data = facebook_data_divipola_code[facebook_data_divipola_code.department_code == dept_code].copy()\n",
    "\n",
    "    facebook_dept_data['mobility_trend'] = facebook_dept_data['all_day_bing_tiles_visited_relative_change']\n",
    "    facebook_dept_data['shelter_trend'] = facebook_dept_data['all_day_ratio_single_tile_users']\n",
    "    facebook_dept_data['date'] = pd.to_datetime(facebook_dept_data['ds'])\n",
    "\n",
    "    tmp_shelter = facebook_dept_data[['date', 'shelter_trend']]\n",
    "    tmp_shelter = tmp_shelter.groupby('date', as_index=False)['shelter_trend'].mean()\n",
    "\n",
    "    df_shelter = tmp_shelter.groupby(tmp_shelter['date'].dt.floor('d')).agg({'shelter_trend': 'mean'}).reset_index()\n",
    "    df_shelter = df_shelter.sort_values(by='date')\n",
    "\n",
    "    tmp_mov = facebook_dept_data[['date', 'mobility_trend']]\n",
    "    tmp_mov = tmp_mov.groupby('date', as_index=False)['mobility_trend'].mean()\n",
    "\n",
    "    df_mobility = tmp_mov.groupby(tmp_mov['date'].dt.floor('d')).agg({'mobility_trend': 'mean'}).reset_index()\n",
    "    df_mobility = df_mobility.sort_values(by='date')\n",
    "\n",
    "    df_mobility.to_csv(f'{fred_input_folder}/mobility_trends/{dept_code}_mobility_trends.csv', index=False)\n",
    "    df_shelter.to_csv(f'{fred_input_folder}/shelter_trends/{dept_code}_shelter_trends.csv', index=False)"
   ]
  },
  {
   "cell_type": "code",
   "execution_count": 282,
   "metadata": {},
   "outputs": [
    {
     "data": {
      "text/plain": [
       "<matplotlib.lines.Line2D at 0x7faa39214df0>"
      ]
     },
     "execution_count": 282,
     "metadata": {},
     "output_type": "execute_result"
    },
    {
     "data": {
      "image/png": "[encoded data removed]",
      "text/plain": [
       "<Figure size 640x480 with 1 Axes>"
      ]
     },
     "metadata": {},
     "output_type": "display_data"
    }
   ],
   "source": [
    "plt.plot(df_shelter.date, df_shelter.shelter_trend)\n",
    "plt.plot(df_mobility.date, 1 + df_mobility.mobility_trend)\n",
    "\n",
    "plt.axhline(y=1, color='r', linestyle='--')\n",
    "#plt.xlim(dt.date(2020,3,1), dt.date(2020,11,1))"
   ]
  },
  {
   "cell_type": "markdown",
   "metadata": {},
   "source": []
  },
  {
   "cell_type": "code",
   "execution_count": 283,
   "metadata": {},
   "outputs": [],
   "source": [
    "#synth_household_file = f'../../../synthetic_populations/output/formatted_populations/colombia_{dept_code}/colombia_{dept_code}_synth_households.txt'\n",
    "#house_esc = pd.read_csv(synth_household_file)\n",
    "\n",
    "#house_esc['ESC'] = (str(dept_code) + house_esc['stcotrbg'].astype(str).str[-3:]).astype(int)\n",
    "\n",
    "#grouped = house_esc.groupby('ESC')['hh_size'].sum().reset_index(name='N')\n",
    "\n",
    "#total_N = grouped['N'].sum()\n",
    "#grouped['Mun_prop'] = grouped['N'] / total_N\n",
    "\n",
    "#df_trend = df_test.merge(grouped, how='left', left_on='divipola_code', right_on='ESC')"
   ]
  }
 ],
 "metadata": {
  "kernelspec": {
   "display_name": "base",
   "language": "python",
   "name": "python3"
  },
  "language_info": {
   "codemirror_mode": {
    "name": "ipython",
    "version": 3
   },
   "file_extension": ".py",
   "mimetype": "text/x-python",
   "name": "python",
   "nbconvert_exporter": "python",
   "pygments_lexer": "ipython3",
   "version": "3.10.12"
  }
 },
 "nbformat": 4,
 "nbformat_minor": 2
}
