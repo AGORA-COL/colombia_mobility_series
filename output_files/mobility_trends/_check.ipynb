{
 "cells": [
  {
   "cell_type": "code",
   "execution_count": 6,
   "metadata": {},
   "outputs": [],
   "source": [
    "import numpy as np\n",
    "import pandas as pd\n",
    "import matplotlib.pyplot as plt"
   ]
  },
  {
   "cell_type": "code",
   "execution_count": 86,
   "metadata": {},
   "outputs": [],
   "source": [
    "df_ = pd.read_csv('19_mobility_trends_lockdown.csv', low_memory=False)"
   ]
  },
  {
   "cell_type": "code",
   "execution_count": 87,
   "metadata": {},
   "outputs": [
    {
     "data": {
      "text/plain": [
       "array([19001, 19022, 19050, 19075, 19100, 19110, 19130, 19137, 19142,\n",
       "       19212, 19256, 19290, 19300, 19318, 19355, 19364, 19392, 19397,\n",
       "       19418, 19450, 19455, 19473, 19513, 19517, 19532, 19533, 19548,\n",
       "       19573, 19585, 19622, 19693, 19698, 19701, 19743, 19760, 19780,\n",
       "       19785, 19807, 19809, 19821, 19824, 19845])"
      ]
     },
     "execution_count": 87,
     "metadata": {},
     "output_type": "execute_result"
    }
   ],
   "source": [
    "df_.divipola_code.unique()"
   ]
  },
  {
   "cell_type": "code",
   "execution_count": 88,
   "metadata": {},
   "outputs": [],
   "source": [
    "df = df_[df_.divipola_code == 19022]"
   ]
  },
  {
   "cell_type": "code",
   "execution_count": 89,
   "metadata": {},
   "outputs": [
    {
     "data": {
      "text/plain": [
       "[<matplotlib.lines.Line2D at 0x7f34e1a97c40>]"
      ]
     },
     "execution_count": 89,
     "metadata": {},
     "output_type": "execute_result"
    },
    {
     "data": {
      "image/png": "[encoded data removed]",
      "text/plain": [
       "<Figure size 640x480 with 1 Axes>"
      ]
     },
     "metadata": {},
     "output_type": "display_data"
    }
   ],
   "source": [
    "plt.plot(pd.to_datetime(df.date), df.shelter_trend)"
   ]
  },
  {
   "cell_type": "code",
   "execution_count": 23,
   "metadata": {},
   "outputs": [
    {
     "data": {
      "text/html": [
       "<div>\n",
       "<style scoped>\n",
       "    .dataframe tbody tr th:only-of-type {\n",
       "        vertical-align: middle;\n",
       "    }\n",
       "\n",
       "    .dataframe tbody tr th {\n",
       "        vertical-align: top;\n",
       "    }\n",
       "\n",
       "    .dataframe thead th {\n",
       "        text-align: right;\n",
       "    }\n",
       "</style>\n",
       "<table border=\"1\" class=\"dataframe\">\n",
       "  <thead>\n",
       "    <tr style=\"text-align: right;\">\n",
       "      <th></th>\n",
       "      <th>Unnamed: 0</th>\n",
       "      <th>date</th>\n",
       "      <th>divipola_code</th>\n",
       "      <th>shelter_trend</th>\n",
       "      <th>Pop</th>\n",
       "      <th>shelter_weight</th>\n",
       "    </tr>\n",
       "  </thead>\n",
       "  <tbody>\n",
       "    <tr>\n",
       "      <th>0</th>\n",
       "      <td>1</td>\n",
       "      <td>2020-03-01</td>\n",
       "      <td>99001</td>\n",
       "      <td>1.0</td>\n",
       "      <td>20936</td>\n",
       "      <td>0.586237</td>\n",
       "    </tr>\n",
       "    <tr>\n",
       "      <th>1</th>\n",
       "      <td>2</td>\n",
       "      <td>2020-03-01</td>\n",
       "      <td>99524</td>\n",
       "      <td>1.0</td>\n",
       "      <td>10122</td>\n",
       "      <td>0.586237</td>\n",
       "    </tr>\n",
       "    <tr>\n",
       "      <th>2</th>\n",
       "      <td>3</td>\n",
       "      <td>2020-03-01</td>\n",
       "      <td>99624</td>\n",
       "      <td>1.0</td>\n",
       "      <td>4059</td>\n",
       "      <td>0.586237</td>\n",
       "    </tr>\n",
       "    <tr>\n",
       "      <th>3</th>\n",
       "      <td>4</td>\n",
       "      <td>2020-03-01</td>\n",
       "      <td>99773</td>\n",
       "      <td>1.0</td>\n",
       "      <td>72691</td>\n",
       "      <td>0.586237</td>\n",
       "    </tr>\n",
       "    <tr>\n",
       "      <th>4</th>\n",
       "      <td>5</td>\n",
       "      <td>2020-03-02</td>\n",
       "      <td>99001</td>\n",
       "      <td>1.0</td>\n",
       "      <td>20936</td>\n",
       "      <td>0.586237</td>\n",
       "    </tr>\n",
       "    <tr>\n",
       "      <th>...</th>\n",
       "      <td>...</td>\n",
       "      <td>...</td>\n",
       "      <td>...</td>\n",
       "      <td>...</td>\n",
       "      <td>...</td>\n",
       "      <td>...</td>\n",
       "    </tr>\n",
       "    <tr>\n",
       "      <th>3247</th>\n",
       "      <td>3248</td>\n",
       "      <td>2022-05-21</td>\n",
       "      <td>99773</td>\n",
       "      <td>1.0</td>\n",
       "      <td>72691</td>\n",
       "      <td>0.065465</td>\n",
       "    </tr>\n",
       "    <tr>\n",
       "      <th>3248</th>\n",
       "      <td>3249</td>\n",
       "      <td>2022-05-22</td>\n",
       "      <td>99001</td>\n",
       "      <td>1.0</td>\n",
       "      <td>20936</td>\n",
       "      <td>0.065465</td>\n",
       "    </tr>\n",
       "    <tr>\n",
       "      <th>3249</th>\n",
       "      <td>3250</td>\n",
       "      <td>2022-05-22</td>\n",
       "      <td>99524</td>\n",
       "      <td>1.0</td>\n",
       "      <td>10122</td>\n",
       "      <td>0.065465</td>\n",
       "    </tr>\n",
       "    <tr>\n",
       "      <th>3250</th>\n",
       "      <td>3251</td>\n",
       "      <td>2022-05-22</td>\n",
       "      <td>99624</td>\n",
       "      <td>1.0</td>\n",
       "      <td>4059</td>\n",
       "      <td>0.065465</td>\n",
       "    </tr>\n",
       "    <tr>\n",
       "      <th>3251</th>\n",
       "      <td>3252</td>\n",
       "      <td>2022-05-22</td>\n",
       "      <td>99773</td>\n",
       "      <td>1.0</td>\n",
       "      <td>72691</td>\n",
       "      <td>0.065465</td>\n",
       "    </tr>\n",
       "  </tbody>\n",
       "</table>\n",
       "<p>3252 rows × 6 columns</p>\n",
       "</div>"
      ],
      "text/plain": [
       "      Unnamed: 0        date  divipola_code  shelter_trend    Pop  \\\n",
       "0              1  2020-03-01          99001            1.0  20936   \n",
       "1              2  2020-03-01          99524            1.0  10122   \n",
       "2              3  2020-03-01          99624            1.0   4059   \n",
       "3              4  2020-03-01          99773            1.0  72691   \n",
       "4              5  2020-03-02          99001            1.0  20936   \n",
       "...          ...         ...            ...            ...    ...   \n",
       "3247        3248  2022-05-21          99773            1.0  72691   \n",
       "3248        3249  2022-05-22          99001            1.0  20936   \n",
       "3249        3250  2022-05-22          99524            1.0  10122   \n",
       "3250        3251  2022-05-22          99624            1.0   4059   \n",
       "3251        3252  2022-05-22          99773            1.0  72691   \n",
       "\n",
       "      shelter_weight  \n",
       "0           0.586237  \n",
       "1           0.586237  \n",
       "2           0.586237  \n",
       "3           0.586237  \n",
       "4           0.586237  \n",
       "...              ...  \n",
       "3247        0.065465  \n",
       "3248        0.065465  \n",
       "3249        0.065465  \n",
       "3250        0.065465  \n",
       "3251        0.065465  \n",
       "\n",
       "[3252 rows x 6 columns]"
      ]
     },
     "execution_count": 23,
     "metadata": {},
     "output_type": "execute_result"
    }
   ],
   "source": [
    "df_"
   ]
  }
 ],
 "metadata": {
  "kernelspec": {
   "display_name": "base",
   "language": "python",
   "name": "python3"
  },
  "language_info": {
   "codemirror_mode": {
    "name": "ipython",
    "version": 3
   },
   "file_extension": ".py",
   "mimetype": "text/x-python",
   "name": "python",
   "nbconvert_exporter": "python",
   "pygments_lexer": "ipython3",
   "version": "3.10.12"
  }
 },
 "nbformat": 4,
 "nbformat_minor": 2
}
